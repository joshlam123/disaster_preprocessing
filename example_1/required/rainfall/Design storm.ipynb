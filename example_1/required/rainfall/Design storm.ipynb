{
  "nbformat": 4,
  "nbformat_minor": 0,
  "metadata": {
    "colab": {
      "name": "Designing storm.ipynb",
      "provenance": [],
      "collapsed_sections": []
    },
    "kernelspec": {
      "name": "python3",
      "display_name": "Python 3"
    }
  },
  "cells": [
    {
      "cell_type": "markdown",
      "metadata": {
        "id": "MaXUQPGWQwr7",
        "colab_type": "text"
      },
      "source": [
        "## **Script to design storm**"
      ]
    },
    {
      "cell_type": "markdown",
      "metadata": {
        "id": "_w7on9DgQ_vD",
        "colab_type": "text"
      },
      "source": [
        "1. Pull out return period's rainfall amount from R file, define duration.\n",
        "2. Use Mononobe method to disaggregate daily rainfall extracted to mm/hr.\n",
        "3. Use Alternative Block method to design storm."
      ]
    },
    {
      "cell_type": "code",
      "metadata": {
        "id": "kVQbfbOAQueP",
        "colab_type": "code",
        "colab": {
          "base_uri": "https://localhost:8080/",
          "height": 34
        },
        "outputId": "99914bf5-797c-440e-c8e8-01517fdb4237"
      },
      "source": [
        "# MONOBE METHOD TO DISAGGREGATE DAILY RAINFALL\n",
        "\n",
        "# inputs\n",
        "return_period = 159 #years\n",
        "rainfall_amt = 310 #mm\n",
        "duration = 6 #hours\n",
        "\n",
        "def mononobe(rainfall, duration):\n",
        "  cumul_rainfall = []\n",
        "  for hour in range(1,duration+1):\n",
        "    cumul_rainfall.append(((rainfall/duration)*(duration/hour)**(2/3))*hour)\n",
        "  intensities = []\n",
        "  for cumul in range(len(cumul_rainfall)):\n",
        "    intensity = cumul_rainfall[cumul]\n",
        "    if intensities == []:\n",
        "      intensities.append(intensity)\n",
        "    else:\n",
        "      for i in intensities:\n",
        "        intensity -= i\n",
        "      intensities.append(intensity)\n",
        "  intensities = [0] + intensities + [0]\n",
        "  return intensities\n",
        "\n",
        "intensities = mononobe(rainfall_amt,duration)\n",
        "print(intensities)"
      ],
      "execution_count": 23,
      "outputs": [
        {
          "output_type": "stream",
          "text": [
            "[0, 80.34689638976924, 20.883849665423412, 14.649530738485893, 11.662471057821065, 9.848512365130532, 8.608739783369856, 0]\n"
          ],
          "name": "stdout"
        }
      ]
    },
    {
      "cell_type": "code",
      "metadata": {
        "id": "h5kAdeIaWW4M",
        "colab_type": "code",
        "colab": {
          "base_uri": "https://localhost:8080/",
          "height": 34
        },
        "outputId": "29c99126-4a8e-4c9c-83a5-575fe1b1ab67"
      },
      "source": [
        "# ALTERNATIVE BLOCK METHOD\n",
        "\n",
        "def alt_block(intensities):\n",
        "  intensities.sort()\n",
        "  intensities = (intensities[len(intensities)%2::2] + intensities[::-2])[::-1]\n",
        "  return intensities\n",
        "\n",
        "rainfall = alt_block(intensities)\n",
        "\n",
        "print(rainfall)"
      ],
      "execution_count": 24,
      "outputs": [
        {
          "output_type": "stream",
          "text": [
            "[0, 9.848512365130532, 14.649530738485893, 80.34689638976924, 20.883849665423412, 11.662471057821065, 8.608739783369856, 0]\n"
          ],
          "name": "stdout"
        }
      ]
    },
    {
      "cell_type": "code",
      "metadata": {
        "id": "UDOCkIeKLB15",
        "colab_type": "code",
        "colab": {
          "base_uri": "https://localhost:8080/",
          "height": 17
        },
        "outputId": "625d3ff2-3364-4cdf-824c-371dac81c395"
      },
      "source": [
        "# EXPORT INTENSITIES\n",
        "from google.colab import files\n",
        "import pandas as pd\n",
        "import numpy as np\n",
        "\n",
        "master = {'time': [x*60 for x in range(duration+2)], 'mm/hr': rainfall}\n",
        "df = pd.DataFrame(master, columns = ['time', 'mm/hr'])\n",
        "\n",
        "df2 = pd.DataFrame({'time':['# '+str(return_period)+\" years return period storm, \" + str(rainfall_amt)+ \" mm, \" + str(duration) + \" hours\", '2','time','mm/hr']})\n",
        "output_df = pd.concat([df2, df])\n",
        "output_df.fillna(\"\")\n",
        "\n",
        "rainfall_file = output_df.to_csv(str(return_period)+' years rainfall.txt', sep='\\t', index=False, header=False)\n",
        "files.download(str(return_period)+' years rainfall.txt')\n"
      ],
      "execution_count": 25,
      "outputs": [
        {
          "output_type": "display_data",
          "data": {
            "application/javascript": [
              "\n",
              "    async function download(id, filename, size) {\n",
              "      if (!google.colab.kernel.accessAllowed) {\n",
              "        return;\n",
              "      }\n",
              "      const div = document.createElement('div');\n",
              "      const label = document.createElement('label');\n",
              "      label.textContent = `Downloading \"${filename}\": `;\n",
              "      div.appendChild(label);\n",
              "      const progress = document.createElement('progress');\n",
              "      progress.max = size;\n",
              "      div.appendChild(progress);\n",
              "      document.body.appendChild(div);\n",
              "\n",
              "      const buffers = [];\n",
              "      let downloaded = 0;\n",
              "\n",
              "      const channel = await google.colab.kernel.comms.open(id);\n",
              "      // Send a message to notify the kernel that we're ready.\n",
              "      channel.send({})\n",
              "\n",
              "      for await (const message of channel.messages) {\n",
              "        // Send a message to notify the kernel that we're ready.\n",
              "        channel.send({})\n",
              "        if (message.buffers) {\n",
              "          for (const buffer of message.buffers) {\n",
              "            buffers.push(buffer);\n",
              "            downloaded += buffer.byteLength;\n",
              "            progress.value = downloaded;\n",
              "          }\n",
              "        }\n",
              "      }\n",
              "      const blob = new Blob(buffers, {type: 'application/binary'});\n",
              "      const a = document.createElement('a');\n",
              "      a.href = window.URL.createObjectURL(blob);\n",
              "      a.download = filename;\n",
              "      div.appendChild(a);\n",
              "      a.click();\n",
              "      div.remove();\n",
              "    }\n",
              "  "
            ],
            "text/plain": [
              "<IPython.core.display.Javascript object>"
            ]
          },
          "metadata": {
            "tags": []
          }
        },
        {
          "output_type": "display_data",
          "data": {
            "application/javascript": [
              "download(\"download_4e347545-c64e-42cc-be19-ca35d5a9bf30\", \"4 years rainfall.txt\", 212)"
            ],
            "text/plain": [
              "<IPython.core.display.Javascript object>"
            ]
          },
          "metadata": {
            "tags": []
          }
        }
      ]
    }
  ]
}